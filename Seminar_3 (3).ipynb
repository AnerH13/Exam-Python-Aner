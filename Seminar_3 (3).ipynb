{
  "cells": [
    {
      "cell_type": "markdown",
      "metadata": {
        "id": "L7Uv4kKoboZU"
      },
      "source": [
        "# Financial Econometrics I\n",
        "\n",
        "#### Linear AR and MA models.\n",
        "\n",
        "by Lukas Vacha and Josef Kurka\n",
        "\n",
        "#### Seminar 3: Summer Semester 2023/2024\n",
        "___\n",
        "\n",
        "The data for seminars can be downloaded on [Google drive](https://drive.google.com/drive/u/0/folders/1_C5kBw9KY59K1J-uRud3G-8kJHfZy_zC)\n",
        "\n",
        "For this seminar you will need 'data_seminar3.csv' and 'spread.csv'.\n",
        "___"
      ]
    },
    {
      "cell_type": "markdown",
      "metadata": {
        "id": "o-LyNcolboZX"
      },
      "source": [
        "### ARMA processes 'ingredients'\n",
        "\n",
        "AR(1)\n",
        "\n",
        "$$y_t = \\phi_0 + \\phi_1 y_{t-1} + \\epsilon_t$$\n",
        "\n",
        "MA(1)\n",
        "\n",
        "$$y_t = \\theta_0 + \\theta_1 \\epsilon_{t-1} + \\epsilon_t$$\n",
        "\n",
        "ARMA(1, 1)\n",
        "\n",
        "$$y_t = \\phi_0 + \\phi_1 y_{t-1} + \\theta_1 \\epsilon_{t-1} + \\epsilon_t$$"
      ]
    },
    {
      "cell_type": "code",
      "execution_count": null,
      "metadata": {
        "id": "LA-NrkcrboZY"
      },
      "outputs": [],
      "source": [
        "if (!require(forecast)) install.packages('forecast')\n",
        "\n",
        "library(stats)\n",
        "library(repr)\n",
        "library(tseries)\n",
        "library(readr)\n",
        "library(forecast)\n",
        "\n",
        "options(repr.plot.width = 12, repr.plot.height = 9)"
      ]
    },
    {
      "cell_type": "code",
      "execution_count": null,
      "metadata": {
        "id": "qyOAR6jfboZa"
      },
      "outputs": [],
      "source": [
        "options(repr.plot.width = 14, repr.plot.height = 8)\n",
        "set.seed(229)\n",
        "par(mfrow = c(1, 2))\n",
        "eps <- rnorm(100)\n",
        "phi <- 0.6\n",
        "phi2 <- 0.3\n",
        "s1 <- vector()\n",
        "s2 <- vector()\n",
        "s1[1] <- 0\n",
        "s2[1] <- 0\n",
        "s1[2] <- 0\n",
        "s2[2] <- 0\n",
        "for (i in 3:100){\n",
        "    s1[i] <- phi * s1[i - 1]  + phi2 * s1[i - 2] + eps[i]\n",
        "    s2[i] <- phi * eps[i - 1] + phi2 * eps[i - 2]+ eps[i]\n",
        "}\n",
        "plot.ts(s2, ylab = NA)\n",
        "plot.ts(s1, ylab = NA)"
      ]
    },
    {
      "cell_type": "code",
      "execution_count": null,
      "metadata": {
        "id": "uoitLX7xboZa"
      },
      "outputs": [],
      "source": [
        "options(repr.plot.width = 12, repr.plot.height = 12)\n",
        "par(mfrow = c(2, 2))\n",
        "acf(s1)\n",
        "pacf(s1)\n",
        "acf(s2)\n",
        "pacf(s2)"
      ]
    },
    {
      "cell_type": "markdown",
      "metadata": {
        "id": "ZbAd5N3DboZb"
      },
      "source": [
        "## ARMA models identification and estimation\n",
        "\n",
        "We are going to work with a couple of particular time series from the ARMA family, and try to identify the \"right\" order of AR and MA.\n",
        "\n",
        "We will use the Box-Jenkins method\n",
        "\n",
        "* Identification\n",
        "* Estimation\n",
        "* Model diagnostics"
      ]
    },
    {
      "cell_type": "markdown",
      "metadata": {
        "id": "z-h2yM4bboZb"
      },
      "source": [
        "#### Identification\n",
        "\n",
        "One of the first steps is to look at ACF, and PACF. There some typical ACFs that signal different processes."
      ]
    },
    {
      "cell_type": "code",
      "execution_count": null,
      "metadata": {
        "id": "a6dbuCcDboZb"
      },
      "outputs": [],
      "source": [
        "options(repr.plot.width = 12, repr.plot.height = 8)\n",
        "par(mfrow = c(1, 2))\n",
        "x <- seq(1, 30)\n",
        "plot(0.9 ^ x, type = 'h', ylim = c(-1, 1), main = 'AR', ylab = NA)\n",
        "plot(sin(x) * 1/(sqrt(x)), type = 'h', ylim = c(-1, 1), main = 'AR', ylab = NA)"
      ]
    },
    {
      "cell_type": "code",
      "execution_count": null,
      "metadata": {
        "id": "uqaLorSNboZc"
      },
      "outputs": [],
      "source": [
        "x <- c( 0.8, 0.4,  rep(0.05, 3), rep(-0.05, 23))\n",
        "plot(x, type = 'h', main = 'MA',  ylim = c(-1, 1), , ylab = NA)"
      ]
    },
    {
      "cell_type": "code",
      "execution_count": null,
      "metadata": {
        "id": "Ose8d2mdboZc"
      },
      "outputs": [],
      "source": [
        "x <- c(0.6, 0.8, -0.5, 0.6, -0.4, rep(0.05, 25))\n",
        "plot(x, type = 'h', main = 'ARMA',  ylim = c(-1, 1), ylab = NA)"
      ]
    },
    {
      "cell_type": "code",
      "execution_count": null,
      "metadata": {
        "id": "1PneumeVboZc"
      },
      "outputs": [],
      "source": [
        "plot(rnorm(30, sd = 0.05), ylim = c(-1, 1), main = 'WN', type = 'h', ylab = NA)"
      ]
    },
    {
      "cell_type": "code",
      "execution_count": null,
      "metadata": {
        "id": "-9dcoSa5boZd"
      },
      "outputs": [],
      "source": [
        "x <- seq(1, 30)\n",
        "plot(1 - 0.01 * x, ylim = c(-1, 1), main = 'Non-stationary', type = 'h', ylab = NA)"
      ]
    },
    {
      "cell_type": "code",
      "execution_count": null,
      "metadata": {
        "id": "Bebw-kipboZd"
      },
      "outputs": [],
      "source": [
        "x <- c(rep(0.05, 3), 0.8, rep(0.05, 3), 0.8, rep(0.05, 3), 0.8, rep(0.05, 3), 0.8, rep(0.05, 3), 0.8)\n",
        "plot(x, type = 'h', main = 'Seasonal',  ylim = c(-1, 1), ylab = NA)"
      ]
    },
    {
      "cell_type": "code",
      "execution_count": null,
      "metadata": {
        "id": "UvM2GHNuboZd"
      },
      "outputs": [],
      "source": [
        "par(mfrow = c(3, 2))\n",
        "par(mfrow = c(1, 2))\n",
        "x <- seq(1, 30)\n",
        "plot(0.9 ^ x, type = 'h', ylim = c(-1, 1), main = 'AR', ylab = NA)\n",
        "plot(sin(x) * 1/(sqrt(x)), type = 'h', ylim = c(-1, 1), main = 'AR', ylab = NA)\n",
        "x <- c(rep(0.05, 2), 0.8, rep(0.05, 3), -0.5, rep(-0.05, 23))\n",
        "plot(x, type = 'h', main = 'MA',  ylim = c(-1, 1), ylab = NA)\n",
        "x <- c(0.6, 0.8, -0.5, 0.6, -0.4, rep(0.05, 25))\n",
        "plot(x, type = 'h', main = 'ARMA',  ylim = c(-1, 1), ylab = NA)\n",
        "plot(rnorm(30, sd = 0.05), ylim = c(-1, 1), main = 'WN', type = 'h', ylab = NA)\n",
        "x <- seq(1, 30)\n",
        "plot(1 - 0.01 * x, ylim = c(-1, 1), main = 'Non-stationary', type = 'h', ylab = NA)"
      ]
    },
    {
      "cell_type": "markdown",
      "metadata": {
        "id": "NxWFxbIuboZe"
      },
      "source": [
        "Load the data and observe the Box-Jenkins Method in practice."
      ]
    },
    {
      "cell_type": "code",
      "execution_count": null,
      "metadata": {
        "id": "fQ-YpUNeboZe"
      },
      "outputs": [],
      "source": [
        "proc <- read.csv(\"data_seminar3.csv\")\n",
        "# Data from Google Drive may be comma separated\n",
        "spr <- read.csv(\"spread.csv\", sep = \",\")\n",
        "\n",
        "spr$Spread <- as.numeric(as.character(spr$Spread))\n",
        "colnames(spr) <- c('Year', 'Quarter', 'Value')\n",
        "spr$Year <- as.Date(paste(spr$Year, paste(0, spr$Quarter, sep = \"\"), 01,  sep = \"-\"), format = \"%Y-%m-%d\")\n",
        "spr <- spr[, -2]"
      ]
    },
    {
      "cell_type": "code",
      "execution_count": null,
      "metadata": {
        "id": "Dys5828YboZe"
      },
      "outputs": [],
      "source": [
        "head(proc)\n",
        "head(spr)\n",
        "\n",
        "y1 <- proc$Y1\n",
        "y2 <- proc$Y2\n",
        "y3 <- proc$Y3\n",
        "\n",
        "spread <- spr$Value"
      ]
    },
    {
      "cell_type": "markdown",
      "metadata": {
        "id": "fwuoicT8boZf"
      },
      "source": [
        "Y1, Y2, and Y3 are simulated realizations of particular processes from ARMA family. Our task is to try find out what is the underlying process in each case. The answers can be found on the bottom of each exercise.\n",
        "\n",
        "### Y1\n",
        "\n",
        "Let's start with series Y1. Begin with plotting the data."
      ]
    },
    {
      "cell_type": "code",
      "execution_count": null,
      "metadata": {
        "id": "AmcRy70AboZf"
      },
      "outputs": [],
      "source": [
        "library(repr)\n",
        "#install.packages('tseries')\n",
        "library(tseries)\n",
        "plot.ts(y1, ylab = NA, main = 'Y1')"
      ]
    },
    {
      "cell_type": "markdown",
      "metadata": {
        "id": "Vwq91cRjboZf"
      },
      "source": [
        "\n",
        "We can't say much based on the plot. What are the properties of this time series? Is it stationary?\n",
        "How about autocorrelations?\n"
      ]
    },
    {
      "cell_type": "code",
      "execution_count": null,
      "metadata": {
        "id": "XGQkQFCVboZf"
      },
      "outputs": [],
      "source": [
        "par(mfrow = c(1, 2))\n",
        "acf(y1)\n",
        "pacf(y1)"
      ]
    },
    {
      "cell_type": "markdown",
      "metadata": {
        "id": "rLSRz5z1boZf"
      },
      "source": [
        "We would not rule out stationarity based on ACF and PACF. Conduct a formal test for stationarity."
      ]
    },
    {
      "cell_type": "code",
      "execution_count": null,
      "metadata": {
        "id": "fTR39NcSboZg"
      },
      "outputs": [],
      "source": [
        "adf.test(y1, k = 1)"
      ]
    },
    {
      "cell_type": "markdown",
      "metadata": {
        "id": "1qDrAkbFboZg"
      },
      "source": [
        "We would reject non-stationarity at 10% level. If we believe time series is stationary, we can the start the process of estimating the order of ARMA(p, q) process.\n",
        "\n",
        "Pacf shows a very significant dependence at first lag, therefore we start estimation with AR(1) process."
      ]
    },
    {
      "cell_type": "code",
      "execution_count": null,
      "metadata": {
        "id": "c6_v-pP-boZg"
      },
      "outputs": [],
      "source": [
        "y1_ar1 <- Arima(y1, order = c(1, 0, 0))\n",
        "summary(y1_ar1)"
      ]
    },
    {
      "cell_type": "markdown",
      "metadata": {
        "id": "j_ZgM4ywboZg"
      },
      "source": [
        "This summary itself is not very informative. We can see, that the intercept, although large in magnitude has a huge standard error. Examine ACF and PACF of the residuals. If the model we chose is a good fit, there should not be much dependence left."
      ]
    },
    {
      "cell_type": "code",
      "execution_count": null,
      "metadata": {
        "id": "FwQ-C0BQboZg"
      },
      "outputs": [],
      "source": [
        "par(mfrow = c(1, 2))\n",
        "acf(y1_ar1$residuals, main = NA)\n",
        "pacf(y1_ar1$residuals, main = NA)"
      ]
    },
    {
      "cell_type": "markdown",
      "metadata": {
        "id": "vUeOp2R0boZh"
      },
      "source": [
        "In addition to the plots, we should test for joint siginificance of residuals' autocorrelation. As we already know, this can be done using the Ljung-Box Q test. Let's test for joint significance up to 4th, 8th and 12th lag respectively."
      ]
    },
    {
      "cell_type": "code",
      "execution_count": null,
      "metadata": {
        "id": "Bm5f2_a3boZh"
      },
      "outputs": [],
      "source": [
        "Box.test(y1_ar1$residuals, type = \"Ljung-Box\", lag = 4)\n",
        "Box.test(y1_ar1$residuals, type = \"Ljung-Box\", lag = 8)\n",
        "Box.test(y1_ar1$residuals, type = \"Ljung-Box\", lag = 12)"
      ]
    },
    {
      "cell_type": "markdown",
      "metadata": {
        "id": "xSy1UT4cboZh"
      },
      "source": [
        "Recall that the null hypothesis is joint insignificance of autocorrelation coefficients 1 to m. We reject joint insignificance for neither 4, 8 or 12 lags."
      ]
    },
    {
      "cell_type": "markdown",
      "metadata": {
        "id": "X2rwPnXIboZh"
      },
      "source": [
        "Next, try if ARMA(1, 1) would not be a better fit."
      ]
    },
    {
      "cell_type": "code",
      "execution_count": null,
      "metadata": {
        "id": "CBvIsJRlboZh"
      },
      "outputs": [],
      "source": [
        "y1_arma11 <- Arima(y1, order = c(1, 0, 1))\n",
        "summary(y1_arma11)\n",
        "\n",
        "par(mfrow = c(1, 2))\n",
        "acf(y1_arma11$residuals, main = NA)\n",
        "pacf(y1_arma11$residuals, main = NA)"
      ]
    },
    {
      "cell_type": "code",
      "execution_count": null,
      "metadata": {
        "id": "IRjoEnewboZi"
      },
      "outputs": [],
      "source": [
        "Box.test(y1_arma11$residuals, type = \"Ljung-Box\", lag = 4)\n",
        "Box.test(y1_arma11$residuals, type = \"Ljung-Box\", lag = 8)\n",
        "Box.test(y1_arma11$residuals, type = \"Ljung-Box\", lag = 12)"
      ]
    },
    {
      "cell_type": "markdown",
      "metadata": {
        "id": "swLj-tIBboZi"
      },
      "source": [
        "The dependence in residuals seems to be removed in this case either. When we need to decide which of the multiple suitable models is the \"best\" for our data, we can compare the information criteria, and choose the model where they are minimalized. Arima function directly reports Bayesian Information Criterion (BIC), Akaike Information Criterion (AIC), and AIC corrected for small samples (AICc). Let's compare AIC and BIC of the models we estimated."
      ]
    },
    {
      "cell_type": "code",
      "execution_count": null,
      "metadata": {
        "id": "2OG2Y9erboZi"
      },
      "outputs": [],
      "source": [
        "models <- 2\n",
        "criteria <- matrix(ncol = 2, nrow = models)\n",
        "colnames(criteria) <- c('AIC', 'BIC')\n",
        "rownames(criteria) <- c('AR(1)', 'ARMA(1,1)')\n",
        "\n",
        "criteria[1, 1] <- y1_ar1$aic\n",
        "criteria[1, 2] <- y1_ar1$bic\n",
        "criteria[2, 1] <- y1_arma11$aic\n",
        "criteria[2, 2] <- y1_arma11$bic\n",
        "\n",
        "criteria"
      ]
    },
    {
      "cell_type": "markdown",
      "metadata": {
        "id": "SQvyRgPjboZi"
      },
      "source": [
        "Both criteria are lower for the AR(1) model. The data are in fact a realization of following AR(1) process\n",
        "\n",
        "$$ y_t = 0.7 y_{t-1} + \\epsilon_t.$$\n",
        "\n",
        "#### Exercise:\n",
        "\n",
        "Try applying the Box-Jenkins on the Y2 series.\n",
        "\n",
        "Hint:\n",
        "\n",
        "1) Identification - look at the plot of the series, its ACF and PACF. Based on the ACF try to get an idea which could be the underlying process. Test for stationarity.\n",
        "\n",
        "2) Estimation - estimate the parameters of your candidate processes.\n",
        "\n",
        "3) Diagnostics - Check the dependencies in the residuals. If you have more suitable candidate models, use the information criteria. If you still have more suitable models, prefer parsimony.\n",
        "\n",
        "### Y2"
      ]
    },
    {
      "cell_type": "code",
      "execution_count": null,
      "metadata": {
        "id": "YSxv-LU6boZj"
      },
      "outputs": [],
      "source": [
        "plot.ts(y2, ylab = NA, main = 'Y2')\n",
        "\n",
        "par(mfrow = c(1, 2))\n",
        "acf(y2)\n",
        "pacf(y2)"
      ]
    },
    {
      "cell_type": "code",
      "execution_count": null,
      "metadata": {
        "id": "_fWEkgLGboZj"
      },
      "outputs": [],
      "source": [
        "y2_ma2 <- Arima(y2, order = c(0, 0, 2))\n",
        "summary(y2_ma2)\n",
        "\n",
        "par(mfrow = c(1, 2))\n",
        "acf(y2_ma2$residuals, main = NA)\n",
        "pacf(y2_ma2$residuals, main = NA)\n",
        "Box.test(y2_ma2$residuals, type = \"Ljung-Box\", lag = 4)\n",
        "Box.test(y2_ma2$residuals, type = \"Ljung-Box\", lag = 8)"
      ]
    },
    {
      "cell_type": "code",
      "execution_count": null,
      "metadata": {
        "id": "GXCNPjSbboZj"
      },
      "outputs": [],
      "source": [
        "y2_ma8 <- Arima(y2, order = c(0, 0, 8))\n",
        "summary(y2_ma8)\n",
        "\n",
        "par(mfrow = c(1, 2))\n",
        "acf(y2_ma8$residuals, main = NA)\n",
        "pacf(y2_ma8$residuals, main = NA)\n",
        "Box.test(y2_ma8$residuals, type = \"Ljung-Box\", lag = 4)\n",
        "Box.test(y2_ma8$residuals, type = \"Ljung-Box\", lag = 8)"
      ]
    },
    {
      "cell_type": "code",
      "execution_count": null,
      "metadata": {
        "id": "1eA7_ufSboZp"
      },
      "outputs": [],
      "source": [
        "y2_ar2 <- Arima(y2, order = c(2, 0, 0))\n",
        "summary(y2_ar2)\n",
        "\n",
        "par(mfrow = c(1, 2))\n",
        "acf(y2_ar2$residuals, main = NA)\n",
        "pacf(y2_ar2$residuals, main = NA)\n",
        "Box.test(y2_ar2$residuals, type = \"Ljung-Box\", lag = 4)\n",
        "Box.test(y2_ar2$residuals, type = \"Ljung-Box\", lag = 8)"
      ]
    },
    {
      "cell_type": "code",
      "execution_count": null,
      "metadata": {
        "id": "wBUV4gCpboZp"
      },
      "outputs": [],
      "source": [
        "y2_arma2 <- Arima(y2, order = c(1, 0, 1))\n",
        "summary(y2_arma2)\n",
        "\n",
        "par(mfrow = c(1, 2))\n",
        "acf(y2_arma2$residuals, main = NA)\n",
        "pacf(y2_arma2$residuals, main = NA)\n",
        "Box.test(y2_arma2$residuals, type = \"Ljung-Box\", lag = 4)\n",
        "Box.test(y2_arma2$residuals, type = \"Ljung-Box\", lag = 8)"
      ]
    },
    {
      "cell_type": "code",
      "execution_count": null,
      "metadata": {
        "id": "DP-ENh9IboZq"
      },
      "outputs": [],
      "source": [
        "models <- 3\n",
        "criteria <- matrix(ncol = 2, nrow = models)\n",
        "colnames(criteria) <- c('AIC', 'BIC')\n",
        "rownames(criteria) <- c('AR(2)', 'ARMA(1,1)', 'MA(2)')\n",
        "\n",
        "criteria[1, 1] <- y2_ar2$aic\n",
        "criteria[1, 2] <- y2_ar2$bic\n",
        "criteria[2, 1] <- y2_arma2$aic\n",
        "criteria[2, 2] <- y2_arma2$bic\n",
        "criteria[3, 1] <- y2_ma2$aic\n",
        "criteria[3, 2] <- y2_ma2$bic\n",
        "\n",
        "criteria"
      ]
    },
    {
      "cell_type": "markdown",
      "metadata": {
        "id": "NlxpJQnNboZq"
      },
      "source": [
        "Both criteria are minimized for ARMA(1, 1), which Y2 is a realization of. The underlying process is\n",
        "\n",
        "$$ y_t = - 0.7 y_{t-1} - 0.7 \\epsilon_{t-1} + \\epsilon_t $$\n",
        "\n",
        "### Y3"
      ]
    },
    {
      "cell_type": "code",
      "execution_count": null,
      "metadata": {
        "id": "RPl_unyLboZq"
      },
      "outputs": [],
      "source": [
        "plot.ts(y3, ylab = NA, main = 'Y3')\n",
        "\n",
        "par(mfrow = c(1, 2))\n",
        "acf(y3)\n",
        "pacf(y3)"
      ]
    },
    {
      "cell_type": "markdown",
      "metadata": {
        "id": "b2OwN0OsboZq"
      },
      "source": [
        "Especially the first two lags of PACF are significant, but there are also lags of very high order that exceed the confidence band. We will estimate AR(2), and see what happens."
      ]
    },
    {
      "cell_type": "code",
      "execution_count": null,
      "metadata": {
        "id": "FqjjzVRVboZq"
      },
      "outputs": [],
      "source": [
        "y3_ar2 <- Arima(y3, order = c(2, 0, 0))\n",
        "summary (y3_ar2)\n",
        "\n",
        "par(mfrow = c(1, 2))\n",
        "acf(y3_ar2$residuals, main = NA)\n",
        "pacf(y3_ar2$residuals, main = NA)"
      ]
    },
    {
      "cell_type": "code",
      "execution_count": null,
      "metadata": {
        "id": "tcWst1rhboZr"
      },
      "outputs": [],
      "source": [
        "Box.test(y3_ar2$residuals, type = \"Ljung-Box\", lag = 1)\n",
        "Box.test(y3_ar2$residuals, type = \"Ljung-Box\", lag = 8)\n",
        "Box.test(y3_ar2$residuals, type = \"Ljung-Box\", lag = 12)"
      ]
    },
    {
      "cell_type": "markdown",
      "metadata": {
        "id": "SklDqD9tboZr"
      },
      "source": [
        "According to the plot, there could be some week dependence at high lags of PACF. We could estimate AR(17), but that hardly makes sense."
      ]
    },
    {
      "cell_type": "code",
      "execution_count": null,
      "metadata": {
        "id": "UDfU3Y8xboZr"
      },
      "outputs": [],
      "source": [
        "y3_ar17 <- Arima(y3, order = c(0, 0, 2))\n",
        "summary (y3_ar17)\n",
        "\n",
        "par(mfrow = c(1, 2))\n",
        "acf(y3_ar17$residuals, main = NA)\n",
        "pacf(y3_ar17$residuals, main = NA)\n",
        "Box.test(y3_ar17$residuals, type = \"Ljung-Box\", lag = 1)\n",
        "Box.test(y3_ar17$residuals, type = \"Ljung-Box\", lag = 8)"
      ]
    },
    {
      "cell_type": "code",
      "execution_count": null,
      "metadata": {
        "id": "_n4n2S-DboZr"
      },
      "outputs": [],
      "source": [
        "plot.ts(y3, ylab = NA, main = 'AR(2) fitted values')\n",
        "lines(y3_ar2$fitted, col = 'red')\n",
        "\n",
        "plot.ts(y3, ylab = NA, main = 'AR(17) fitted values')\n",
        "lines(y3_ar17$fitted, col = 'red')"
      ]
    },
    {
      "cell_type": "markdown",
      "metadata": {
        "id": "lR1lGnWqboZr"
      },
      "source": [
        "With AR(17) the ACF and PACF look better (possibly due to overfitting), however the model is hardly much better in terms of fit. Moreover, one should prefer model simplicity.\n",
        "\n",
        "It could be the case that different parts of the sample can be characterized by different models. Subsample the data to two halves."
      ]
    },
    {
      "cell_type": "code",
      "execution_count": null,
      "metadata": {
        "id": "i_VFecX3boZr"
      },
      "outputs": [],
      "source": [
        "y3_01 <- y3[1:(length(y3) / 2)]\n",
        "y3_02 <- y3[((length(y3) / 2) + 1):length(y3)]\n",
        "\n",
        "options(repr.plot.width = 10, repr.plot.height = 10)\n",
        "par(mfrow = c(2, 2))\n",
        "\n",
        "acf(y3_01, main = \"First subsample\")\n",
        "pacf(y3_01, main = \"First subsample\")\n",
        "acf(y3_02, main = \"Second subsample\")\n",
        "pacf(y3_02, main = \"Second subsample\")"
      ]
    },
    {
      "cell_type": "code",
      "execution_count": null,
      "metadata": {
        "id": "OeZOGyorboZs"
      },
      "outputs": [],
      "source": [
        "model_sub1 <- Arima(y3_01, order = c(2, 0, 0))\n",
        "model_sub2 <- Arima(y3_02, order = c(2, 0, 0))\n",
        "\n",
        "summary(model_sub1)\n",
        "summary(model_sub2)"
      ]
    },
    {
      "cell_type": "code",
      "execution_count": null,
      "metadata": {
        "id": "53AlwsMtboZs"
      },
      "outputs": [],
      "source": [
        "options(repr.plot.width = 10, repr.plot.height = 10)\n",
        "par(mfrow = c(2, 2))\n",
        "\n",
        "acf(model_sub1$residuals, main = \"First subsample\", lag = 20)\n",
        "pacf(model_sub1$residuals, main = \"First subsample\", lag = 20)\n",
        "acf(model_sub2$residuals, main = \"Second subsample\", lag = 20)\n",
        "pacf(model_sub2$residuals, main = \"Second subsample\", lag = 20)"
      ]
    },
    {
      "cell_type": "code",
      "execution_count": null,
      "metadata": {
        "id": "KJsVQtvKboZs"
      },
      "outputs": [],
      "source": [
        "Box.test(model_sub1$residuals, type = \"Ljung-Box\", lag = 4)\n",
        "Box.test(model_sub1$residuals, type = \"Ljung-Box\", lag = 8)\n",
        "Box.test(model_sub1$residuals, type = \"Ljung-Box\", lag = 12)\n",
        "\n",
        "Box.test(model_sub2$residuals, type = \"Ljung-Box\", lag = 4)\n",
        "Box.test(model_sub2$residuals, type = \"Ljung-Box\", lag = 8)\n",
        "Box.test(model_sub2$residuals, type = \"Ljung-Box\", lag = 12)"
      ]
    },
    {
      "cell_type": "markdown",
      "metadata": {
        "id": "epashq1EboZs"
      },
      "source": [
        "When we allow the coefficients to be different in first and second part of the sample, the dependence in residuals disappears. Note that we still estimate AR(2) process. Y3 is a realization of  AR(2) process specified as follows:\n",
        "\n",
        "$$ y_t = 0.7 y_{t-1} - 0.49 y_{t-2} + \\epsilon_t.$$\n",
        "\n",
        "R has a built-in function for estimating the order of ARIMA processes. It goes through the set of possible lag (and differencing) combinations, and chooses the best one based on information criteria. One must be careful while using it, as the criteria might favor overfitted models. Successive model diagnostics is an essential part of estimation.\n",
        "\n",
        "See what happens if we let auto.arima select the model for the three series we just examined."
      ]
    },
    {
      "cell_type": "code",
      "execution_count": null,
      "metadata": {
        "id": "mZ9XiKolboZs"
      },
      "outputs": [],
      "source": [
        "auto.arima(y2)"
      ]
    },
    {
      "cell_type": "markdown",
      "metadata": {
        "id": "nDfqw9ltboZt"
      },
      "source": [
        "For y2, the function estimates the same model as we did."
      ]
    },
    {
      "cell_type": "code",
      "execution_count": null,
      "metadata": {
        "id": "5N3PmjkFboZt"
      },
      "outputs": [],
      "source": [
        "auto.arima(y3, approximation = FALSE, stepwise = FALSE)"
      ]
    },
    {
      "cell_type": "markdown",
      "metadata": {
        "id": "LA8cRI4EboZt"
      },
      "source": [
        "For y3, the machine prefers ARMA(2, 3), but look at the first AR coefficient. Let's compare all three of the criteria between AR(2) and ARMA(2, 3)."
      ]
    },
    {
      "cell_type": "code",
      "execution_count": null,
      "metadata": {
        "id": "4Wd8GOkiboZt"
      },
      "outputs": [],
      "source": [
        "model <- Arima(y3, order = c(2, 0, 0), include.mean = FALSE)\n",
        "\n",
        "models <- 2\n",
        "criteria <- matrix(ncol = 3, nrow = models)\n",
        "colnames(criteria) <- c('AIC', 'AICc', 'BIC')\n",
        "rownames(criteria) <- c('AR(2)','ARMA(2, 3)')\n",
        "\n",
        "criteria[1, 1] <- model$aic\n",
        "criteria[1, 2] <- model$aicc\n",
        "criteria[1, 3] <- model$bic\n",
        "criteria[2, 1] <- auto.arima(y3)$aic\n",
        "criteria[2, 2] <- auto.arima(y3)$aicc\n",
        "criteria[2, 3] <- auto.arima(y3)$bic\n",
        "\n",
        "criteria"
      ]
    },
    {
      "cell_type": "markdown",
      "metadata": {
        "id": "DcdJxtDVboZt"
      },
      "source": [
        "The criteria do not send a clear message, but AR(2) may be more preferable due to its parsimony."
      ]
    },
    {
      "cell_type": "code",
      "execution_count": null,
      "metadata": {
        "id": "BibqMsEEboZw"
      },
      "outputs": [],
      "source": [
        "auto.arima(y1)"
      ]
    },
    {
      "cell_type": "markdown",
      "metadata": {
        "id": "k560-CAkboZw"
      },
      "source": [
        "Here, R estimates the model with first difference. We get to drawbacks of possible over-differencing later. For now, let's tell R not to do that."
      ]
    },
    {
      "cell_type": "code",
      "execution_count": null,
      "metadata": {
        "id": "6S3LZ7EZboZw"
      },
      "outputs": [],
      "source": [
        "auto.arima(y1, max.d = 0)"
      ]
    },
    {
      "cell_type": "markdown",
      "metadata": {
        "id": "M6SLrkLjboZw"
      },
      "source": [
        "#### Spread\n",
        "\n",
        "Now we will work with real-world data, thus we don't know what process the data come from. Start again by plotting the time series."
      ]
    },
    {
      "cell_type": "code",
      "execution_count": null,
      "metadata": {
        "id": "or6zUblCboZw"
      },
      "outputs": [],
      "source": [
        "options(repr.plot.width = 8, repr.plot.height = 6)\n",
        "\n",
        "plot.ts(spr$Value, xlab = 'Year', ylab = NA, main = 'SPREAD', axes = F)\n",
        "axis(1, at = c(1, 41, 81, 121, 161), lab = c('1960', '1970', '1980', '1990', '2000'))\n",
        "box()\n",
        "\n",
        "par(mfrow = c(1, 2))\n",
        "acf(spread, main = NA, lag = 50)\n",
        "pacf(spread, main = NA, lag = 50)"
      ]
    },
    {
      "cell_type": "markdown",
      "metadata": {
        "id": "zXXxbpMOboZx"
      },
      "source": [
        "Test for stationarity."
      ]
    },
    {
      "cell_type": "code",
      "execution_count": null,
      "metadata": {
        "id": "_2nPJCbVboZx"
      },
      "outputs": [],
      "source": [
        "adf.test(spread, k = 1)\n",
        "adf.test(spread, k = 5)\n",
        "adf.test(spread, k = 10)"
      ]
    },
    {
      "cell_type": "markdown",
      "metadata": {
        "id": "2w0RhkOIboZx"
      },
      "source": [
        "We reject non-stationarity based on ADF test. There seems to be a lot of dependence visible from the ACF and PACF."
      ]
    },
    {
      "cell_type": "code",
      "execution_count": null,
      "metadata": {
        "id": "_4mgcclGboZx"
      },
      "outputs": [],
      "source": [
        "auto <- auto.arima(spread, max.d = 0)\n",
        "auto\n",
        "\n",
        "par(mfrow = c(1, 2))\n",
        "acf(auto$residuals, main = NA)\n",
        "pacf(auto$residuals, main = NA)"
      ]
    },
    {
      "cell_type": "markdown",
      "metadata": {
        "id": "Siw1vnmMboZx"
      },
      "source": [
        "#### AR(7)"
      ]
    },
    {
      "cell_type": "code",
      "execution_count": null,
      "metadata": {
        "id": "rpHkgXUzboZx"
      },
      "outputs": [],
      "source": [
        "fit1 <- Arima(spread, order = c(7, 0, 0))\n",
        "summary(fit1)\n",
        "\n",
        "par(mfrow = c(1, 2))|\n",
        "acf(fit1$residuals, main = NA)\n",
        "pacf(fit1$residuals, main = NA)"
      ]
    },
    {
      "cell_type": "code",
      "execution_count": null,
      "metadata": {
        "id": "eE3wICBfboZx"
      },
      "outputs": [],
      "source": [
        "Box.test(fit1$residuals, type = \"Ljung-Box\", lag = 1)\n",
        "Box.test(fit1$residuals, type = \"Ljung-Box\", lag = 8)\n",
        "Box.test(fit1$residuals, type = \"Ljung-Box\", lag = 12)"
      ]
    },
    {
      "cell_type": "markdown",
      "metadata": {
        "id": "qmcU9VvtboZy"
      },
      "source": [
        "#### AR(2)"
      ]
    },
    {
      "cell_type": "code",
      "execution_count": null,
      "metadata": {
        "id": "RbYHyZKZboZy"
      },
      "outputs": [],
      "source": [
        "fit2 <- Arima(spread, order = c(2, 0, 0))\n",
        "summary(fit2)\n",
        "\n",
        "par(mfrow = c(1, 2))\n",
        "acf(fit2$residuals, main = NA)\n",
        "pacf(fit2$residuals, main = NA)"
      ]
    },
    {
      "cell_type": "code",
      "execution_count": null,
      "metadata": {
        "id": "KibZUNQgboZy"
      },
      "outputs": [],
      "source": [
        "Box.test(fit2$residuals, type = \"Ljung-Box\", lag = 4)\n",
        "Box.test(fit2$residuals, type = \"Ljung-Box\", lag = 8)\n",
        "Box.test(fit2$residuals, type = \"Ljung-Box\", lag = 12)"
      ]
    },
    {
      "cell_type": "markdown",
      "metadata": {
        "id": "_Bef8s5uboZy"
      },
      "source": [
        "#### AR(1; 2; 7)\n",
        "\n",
        "To eliminate the \"mirror\" coefficients from AR(7) model, we fit the AR(7) again, but estimate only 1st, 2nd, and 7th coefficient, while the others are set to 0.\n",
        "\n",
        "Note that fixing some paramaters of ARMA(p, q) to zero (or other value) while fitting a model using *Arima* is done using the *fixed* argument. The order of parameters is $(\\phi_1, ..., \\phi_p, \\psi_1, ..., \\psi_q, intercept)$, where $\\phi_i$ denotes i-th autoregressive parameter and $\\psi_j$ denotes j-th moving average parameter. To make R estimate the parameter enter *NA*. Also, you should have sufficient evidence from the stepwise model building, that restricting certain parameter to a particular value makes sense."
      ]
    },
    {
      "cell_type": "code",
      "execution_count": null,
      "metadata": {
        "id": "yE3JG_65boZy"
      },
      "outputs": [],
      "source": [
        "fit3 <- Arima(spread, order = c(7, 0, 0), fixed = c(NA, NA, 0, 0, 0, 0, NA, NA))\n",
        "summary(fit3)\n",
        "\n",
        "par(mfrow = c(1, 2))\n",
        "acf(fit3$residuals, main = NA)\n",
        "pacf(fit3$residuals, main = NA)"
      ]
    },
    {
      "cell_type": "code",
      "execution_count": null,
      "metadata": {
        "id": "786Z1rCOboZy"
      },
      "outputs": [],
      "source": [
        "Box.test(fit3$residuals, type = \"Ljung-Box\", lag = 4)\n",
        "Box.test(fit3$residuals, type = \"Ljung-Box\", lag = 8)\n",
        "Box.test(fit3$residuals, type = \"Ljung-Box\", lag = 12)"
      ]
    },
    {
      "cell_type": "markdown",
      "metadata": {
        "id": "Fyikidq6boZy"
      },
      "source": [
        "#### ARMA(1, 1)"
      ]
    },
    {
      "cell_type": "code",
      "execution_count": null,
      "metadata": {
        "id": "WFdcPie7boZz"
      },
      "outputs": [],
      "source": [
        "fit4 <- Arima(spread, order = c(1, 0, 1))\n",
        "summary(fit4)\n",
        "\n",
        "par(mfrow = c(1, 2))\n",
        "acf(fit4$residuals, main = NA)\n",
        "pacf(fit4$residuals, main = NA)"
      ]
    },
    {
      "cell_type": "code",
      "execution_count": null,
      "metadata": {
        "id": "1Gve4Y7BboZz"
      },
      "outputs": [],
      "source": [
        "Box.test(fit4$residuals, type = \"Ljung-Box\", lag = 4)\n",
        "Box.test(fit4$residuals, type = \"Ljung-Box\", lag = 8)\n",
        "Box.test(fit4$residuals, type = \"Ljung-Box\", lag = 12)"
      ]
    },
    {
      "cell_type": "markdown",
      "metadata": {
        "id": "ZSUEja2gboZz"
      },
      "source": [
        "#### ARMA(2, 1)"
      ]
    },
    {
      "cell_type": "code",
      "execution_count": null,
      "metadata": {
        "id": "aWHzes1OboZz"
      },
      "outputs": [],
      "source": [
        "fit5 <- Arima(spread, order = c(2, 0, 1))\n",
        "summary(fit5)\n",
        "\n",
        "par(mfrow = c(1, 2))\n",
        "acf(fit5$residuals, main = NA)\n",
        "pacf(fit5$residuals, main = NA)"
      ]
    },
    {
      "cell_type": "code",
      "execution_count": null,
      "metadata": {
        "id": "JWJBjxy3boZz"
      },
      "outputs": [],
      "source": [
        "Box.test(fit5$residuals, type = \"Ljung-Box\", lag = 4)\n",
        "Box.test(fit5$residuals, type = \"Ljung-Box\", lag = 8)\n",
        "Box.test(fit5$residuals, type = \"Ljung-Box\", lag = 12)"
      ]
    },
    {
      "cell_type": "markdown",
      "metadata": {
        "id": "6bXzvFAbboZz"
      },
      "source": [
        "#### ARMA(2, {1; 7})"
      ]
    },
    {
      "cell_type": "code",
      "execution_count": null,
      "metadata": {
        "id": "yATFQScVboZz"
      },
      "outputs": [],
      "source": [
        "fit6 <- Arima(spread, order = c(2, 0, 7), fixed = c(NA, NA, NA, 0, 0, 0, 0, 0, NA, NA))\n",
        "summary(fit6)\n",
        "\n",
        "par(mfrow = c(1, 2))\n",
        "acf(fit6$residuals, main = NA)\n",
        "pacf(fit6$residuals, main = NA)"
      ]
    },
    {
      "cell_type": "code",
      "execution_count": null,
      "metadata": {
        "id": "y5ZLm094boZ0"
      },
      "outputs": [],
      "source": [
        "Box.test(fit6$residuals, type = \"Ljung-Box\", lag = 4)\n",
        "Box.test(fit6$residuals, type = \"Ljung-Box\", lag = 8)\n",
        "Box.test(fit6$residuals, type = \"Ljung-Box\", lag = 12)"
      ]
    },
    {
      "cell_type": "markdown",
      "metadata": {
        "id": "chyNyZYvboZ0"
      },
      "source": [
        "There is a lot of possible models, let's see the information criteria."
      ]
    },
    {
      "cell_type": "code",
      "execution_count": null,
      "metadata": {
        "id": "sq-bVkZvboZ0"
      },
      "outputs": [],
      "source": [
        "models <- 7\n",
        "criteria <- matrix(ncol = 2, nrow = models)\n",
        "colnames(criteria) <- c('AIC', 'BIC')\n",
        "rownames(criteria) <- c('AR(7)', 'AR(2)', 'AR(1; 2; 7)', 'ARMA(1, 1)', 'ARMA(2, 1)', 'ARMA(2, {1; 7})', 'automatic - ARMA(1, 3)')\n",
        "\n",
        "criteria[1, 1] <- fit1$aic\n",
        "criteria[1, 2] <- fit1$bic\n",
        "criteria[2, 1] <- fit2$aic\n",
        "criteria[2, 2] <- fit2$bic\n",
        "criteria[3, 1] <- fit3$aic\n",
        "criteria[3, 2] <- fit3$bic\n",
        "criteria[4, 1] <- fit4$aic\n",
        "criteria[4, 2] <- fit4$bic\n",
        "criteria[5, 1] <- fit5$aic\n",
        "criteria[5, 2] <- fit5$bic\n",
        "criteria[6, 1] <- fit6$aic\n",
        "criteria[6, 2] <- fit6$bic\n",
        "criteria[7, 1] <- auto$aic\n",
        "criteria[7, 2] <- auto$bic\n",
        "\n",
        "criteria"
      ]
    },
    {
      "cell_type": "markdown",
      "metadata": {
        "id": "w6NMcIkrboZ0"
      },
      "source": [
        "#### Subsetting?\n",
        "\n",
        "The results do not provide a clear message, we might want to select ARMA(2, 1), but let's look at the data once again first."
      ]
    },
    {
      "cell_type": "code",
      "execution_count": null,
      "metadata": {
        "id": "pYjdmRa1boZ0"
      },
      "outputs": [],
      "source": [
        "plot.ts(spr$Value, xlab = 'Year', ylab = NA, main = 'SPREAD', axes = F, cex.main = 0.8)\n",
        "axis(1, at = c(1, 41, 81, 121, 161), lab = c('1960', '1970', '1980', '1990', '2000'))\n",
        "box()"
      ]
    },
    {
      "cell_type": "markdown",
      "metadata": {
        "id": "c1LHfSPMboZ0"
      },
      "source": [
        "There is a suspicious jump around 1980. What if the process has a shift? Examine the data between 1980 and 1983"
      ]
    },
    {
      "cell_type": "code",
      "execution_count": null,
      "metadata": {
        "id": "mia-4U0MboZ0"
      },
      "outputs": [],
      "source": [
        "spr[spr[, 1] > as.Date(\"1980-01-01\") & spr[, 1] < as.Date(\"1984-01-01\"),]"
      ]
    },
    {
      "cell_type": "markdown",
      "metadata": {
        "id": "SC0wlgK7boZ0"
      },
      "source": [
        "The jump occurs between 3rd and 4th quarter of 1981. Let's subsample the data."
      ]
    },
    {
      "cell_type": "code",
      "execution_count": null,
      "metadata": {
        "id": "YgwzboP1boZ0"
      },
      "outputs": [],
      "source": [
        "spread1 <- spr[spr[, 1] <= as.Date(\"1981-03-01\"), 'Value']\n",
        "spread2 <- spr[spr[, 1] > as.Date(\"1981-03-01\"), 'Value']\n",
        "\n",
        "par(mfrow = c(1, 2))\n",
        "plot.ts(spread1, ylab = NA, main = 'Until 1982', ylim = c(-2, 4))\n",
        "plot.ts(spread2, ylab = NA, main = 'Since 1982', ylim = c(-2, 4))"
      ]
    },
    {
      "cell_type": "markdown",
      "metadata": {
        "id": "pcaZ8RhUboZ1"
      },
      "source": [
        "Examine ACF and PACF of both subsamples."
      ]
    },
    {
      "cell_type": "code",
      "execution_count": null,
      "metadata": {
        "id": "mWP-bniqboZ1"
      },
      "outputs": [],
      "source": [
        "options(repr.plot.width = 10, repr.plot.height = 10)\n",
        "\n",
        "par(mfrow = c(2, 2))\n",
        "\n",
        "acf(spread1, main = 'Until 1982', lag = 50)\n",
        "pacf(spread1, main = 'Until 1982', lag = 50)\n",
        "acf(spread2, main = 'Since 1982', lag = 50)\n",
        "pacf(spread2, main = 'Since 1982', lag = 50)"
      ]
    },
    {
      "cell_type": "markdown",
      "metadata": {
        "id": "8D9F_1QIboZ1"
      },
      "source": [
        "There are some differences in the correlation functions. Fit the same models as we did for the whole sample for both subsamples individually."
      ]
    },
    {
      "cell_type": "code",
      "execution_count": null,
      "metadata": {
        "id": "lFCwZapgboZ1"
      },
      "outputs": [],
      "source": [
        "sub1_fit1 <- Arima(spread1, order = c(7, 0, 0))\n",
        "sub2_fit1 <- Arima(spread2, order = c(7, 0, 0))\n",
        "\n",
        "summary(sub1_fit1)\n",
        "summary(sub2_fit1)\n",
        "\n",
        "par(mfrow = c(2, 2))\n",
        "acf(sub1_fit1$residuals, main = 'Subsample 1')\n",
        "pacf(sub1_fit1$residuals, main = 'Subsample 1')\n",
        "acf(sub2_fit1$residuals, main = 'Subsample 2')\n",
        "pacf(sub2_fit1$residuals, main = 'Subsample 2')"
      ]
    },
    {
      "cell_type": "code",
      "execution_count": null,
      "metadata": {
        "id": "zLWEO3yrboZ1"
      },
      "outputs": [],
      "source": [
        "Box.test(sub1_fit1$residuals, type = \"Ljung-Box\", lag = 4)\n",
        "Box.test(sub1_fit1$residuals, type = \"Ljung-Box\", lag = 8)\n",
        "Box.test(sub1_fit1$residuals, type = \"Ljung-Box\", lag = 12)\n",
        "\n",
        "Box.test(sub2_fit1$residuals, type = \"Ljung-Box\", lag = 4)\n",
        "Box.test(sub2_fit1$residuals, type = \"Ljung-Box\", lag = 8)\n",
        "Box.test(sub2_fit1$residuals, type = \"Ljung-Box\", lag = 12)"
      ]
    },
    {
      "cell_type": "code",
      "execution_count": null,
      "metadata": {
        "id": "ZED1MTgJboZ1"
      },
      "outputs": [],
      "source": [
        "sub1_fit2 <- Arima(spread1, order = c(2, 0, 0))\n",
        "sub2_fit2 <- Arima(spread2, order = c(2, 0, 0))\n",
        "\n",
        "summary(sub1_fit2)\n",
        "summary(sub2_fit2)\n",
        "\n",
        "par(mfrow = c(2, 2))\n",
        "acf(sub1_fit2$residuals, main = 'Subsample 1')\n",
        "pacf(sub1_fit2$residuals, main = 'Subsample 1')\n",
        "acf(sub2_fit2$residuals, main = 'Subsample 2')\n",
        "pacf(sub2_fit2$residuals, main = 'Subsample 2')"
      ]
    },
    {
      "cell_type": "code",
      "execution_count": null,
      "metadata": {
        "id": "vAk66Ta0boZ1"
      },
      "outputs": [],
      "source": [
        "Box.test(sub1_fit2$residuals, type = \"Ljung-Box\", lag = 4)\n",
        "Box.test(sub1_fit2$residuals, type = \"Ljung-Box\", lag = 8)\n",
        "Box.test(sub1_fit2$residuals, type = \"Ljung-Box\", lag = 12)\n",
        "\n",
        "Box.test(sub2_fit2$residuals, type = \"Ljung-Box\", lag = 4)\n",
        "Box.test(sub2_fit2$residuals, type = \"Ljung-Box\", lag = 8)\n",
        "Box.test(sub2_fit2$residuals, type = \"Ljung-Box\", lag = 12)"
      ]
    },
    {
      "cell_type": "code",
      "execution_count": null,
      "metadata": {
        "id": "V8RS5KTsboZ1"
      },
      "outputs": [],
      "source": [
        "sub1_fit3 <- Arima(spread1, order = c(7, 0, 0), fixed = c(NA, NA, 0, 0 ,0, 0, NA, NA))\n",
        "sub2_fit3 <- Arima(spread2, order = c(7, 0, 0), fixed = c(NA, NA, 0, 0 ,0, 0, NA, NA))\n",
        "\n",
        "summary(sub1_fit3)\n",
        "summary(sub2_fit3)\n",
        "\n",
        "par(mfrow = c(2, 2))\n",
        "acf(sub1_fit3$residuals, main = 'Subsample 1')\n",
        "pacf(sub1_fit3$residuals, main = 'Subsample 1')\n",
        "acf(sub2_fit3$residuals, main = 'Subsample 2')\n",
        "pacf(sub2_fit3$residuals, main = 'Subsample 2')"
      ]
    },
    {
      "cell_type": "code",
      "execution_count": null,
      "metadata": {
        "id": "8PMMZLNvboZ2"
      },
      "outputs": [],
      "source": [
        "Box.test(sub1_fit3$residuals, type = \"Ljung-Box\", lag = 4)\n",
        "Box.test(sub1_fit3$residuals, type = \"Ljung-Box\", lag = 8)\n",
        "Box.test(sub1_fit3$residuals, type = \"Ljung-Box\", lag = 12)\n",
        "\n",
        "Box.test(sub2_fit3$residuals, type = \"Ljung-Box\", lag = 4)\n",
        "Box.test(sub2_fit3$residuals, type = \"Ljung-Box\", lag = 8)\n",
        "Box.test(sub2_fit3$residuals, type = \"Ljung-Box\", lag = 12)"
      ]
    },
    {
      "cell_type": "code",
      "execution_count": null,
      "metadata": {
        "id": "thxbDjGPboZ2"
      },
      "outputs": [],
      "source": [
        "sub1_fit4 <- Arima(spread1, order = c(1, 0, 1))\n",
        "sub2_fit4 <- Arima(spread2, order = c(1, 0, 1))\n",
        "\n",
        "summary(sub1_fit4)\n",
        "summary(sub2_fit4)\n",
        "\n",
        "par(mfrow = c(2, 2))\n",
        "acf(sub1_fit4$residuals, main = 'Subsample 1')\n",
        "pacf(sub1_fit4$residuals, main = 'Subsample 1')\n",
        "acf(sub2_fit4$residuals, main = 'Subsample 2')\n",
        "pacf(sub2_fit4$residuals, main = 'Subsample 2')"
      ]
    },
    {
      "cell_type": "code",
      "execution_count": null,
      "metadata": {
        "id": "gfZnHDksboZ2"
      },
      "outputs": [],
      "source": [
        "Box.test(sub1_fit4$residuals, type = \"Ljung-Box\", lag = 4)\n",
        "Box.test(sub1_fit4$residuals, type = \"Ljung-Box\", lag = 8)\n",
        "Box.test(sub1_fit4$residuals, type = \"Ljung-Box\", lag = 12)\n",
        "\n",
        "Box.test(sub2_fit4$residuals, type = \"Ljung-Box\", lag = 4)\n",
        "Box.test(sub2_fit4$residuals, type = \"Ljung-Box\", lag = 8)\n",
        "Box.test(sub2_fit4$residuals, type = \"Ljung-Box\", lag = 12)"
      ]
    },
    {
      "cell_type": "code",
      "execution_count": null,
      "metadata": {
        "id": "x2FqGUCmboZ2"
      },
      "outputs": [],
      "source": [
        "sub1_fit5 <- Arima(spread1, order = c(2, 0, 1))\n",
        "sub2_fit5 <- Arima(spread2, order = c(2, 0, 1))\n",
        "\n",
        "summary(sub1_fit5)\n",
        "summary(sub2_fit5)\n",
        "\n",
        "par(mfrow = c(2, 2))\n",
        "acf(sub1_fit5$residuals, main = 'Subsample 1')\n",
        "pacf(sub1_fit5$residuals, main = 'Subsample 1')\n",
        "acf(sub2_fit5$residuals, main = 'Subsample 2')\n",
        "pacf(sub2_fit5$residuals, main = 'Subsample 2')"
      ]
    },
    {
      "cell_type": "code",
      "execution_count": null,
      "metadata": {
        "id": "kStrI76gboZ2"
      },
      "outputs": [],
      "source": [
        "Box.test(sub1_fit5$residuals, type = \"Ljung-Box\", lag = 4)\n",
        "Box.test(sub1_fit5$residuals, type = \"Ljung-Box\", lag = 8)\n",
        "Box.test(sub1_fit5$residuals, type = \"Ljung-Box\", lag = 12)\n",
        "\n",
        "Box.test(sub2_fit5$residuals, type = \"Ljung-Box\", lag = 4)\n",
        "Box.test(sub2_fit5$residuals, type = \"Ljung-Box\", lag = 8)\n",
        "Box.test(sub2_fit5$residuals, type = \"Ljung-Box\", lag = 12)"
      ]
    },
    {
      "cell_type": "code",
      "execution_count": null,
      "metadata": {
        "id": "2nMhg_yMboZ2"
      },
      "outputs": [],
      "source": [
        "sub1_fit6 <- Arima(spread1, order = c(2, 0, 7), fixed = c(NA, NA, NA, 0, 0, 0, 0, 0, NA, NA))\n",
        "sub2_fit6 <- Arima(spread2, order = c(2, 0, 7), fixed = c(NA, NA, NA, 0, 0, 0, 0, 0, NA, NA))\n",
        "\n",
        "summary(sub1_fit6)\n",
        "summary(sub2_fit6)\n",
        "\n",
        "par(mfrow = c(2, 2))\n",
        "acf(sub1_fit6$residuals, main = 'Subsample 1')\n",
        "pacf(sub1_fit6$residuals, main = 'Subsample 1')\n",
        "acf(sub2_fit6$residuals, main = 'Subsample 2')\n",
        "pacf(sub2_fit6$residuals, main = 'Subsample 2')"
      ]
    },
    {
      "cell_type": "code",
      "execution_count": null,
      "metadata": {
        "id": "fG0Yx6ctboZ2"
      },
      "outputs": [],
      "source": [
        "Box.test(sub1_fit6$residuals, type = \"Ljung-Box\", lag = 4)\n",
        "Box.test(sub1_fit6$residuals, type = \"Ljung-Box\", lag = 8)\n",
        "Box.test(sub1_fit6$residuals, type = \"Ljung-Box\", lag = 12)\n",
        "\n",
        "Box.test(sub2_fit6$residuals, type = \"Ljung-Box\", lag = 4)\n",
        "Box.test(sub2_fit6$residuals, type = \"Ljung-Box\", lag = 8)\n",
        "Box.test(sub2_fit6$residuals, type = \"Ljung-Box\", lag = 12)"
      ]
    },
    {
      "cell_type": "code",
      "execution_count": null,
      "metadata": {
        "id": "xrPgkXysboZ2"
      },
      "outputs": [],
      "source": [
        "models <- 6\n",
        "criteria <- matrix(ncol = 4, nrow = models)\n",
        "colnames(criteria) <- c('AIC 1', 'BIC 1', 'AIC 2', 'BIC 2')\n",
        "rownames(criteria) <- c('AR(7)', 'AR(2)', 'AR(1)', 'ARMA(1,1)', 'ARMA(2,1)', 'ARMA(2,7)')\n",
        "\n",
        "criteria[1, 1] <- sub1_fit1$aic\n",
        "criteria[1, 2] <- sub1_fit1$bic\n",
        "criteria[2, 1] <- sub1_fit2$aic\n",
        "criteria[2, 2] <- sub1_fit2$bic\n",
        "criteria[3, 1] <- sub1_fit3$aic\n",
        "criteria[3, 2] <- sub1_fit3$bic\n",
        "criteria[4, 1] <- sub1_fit4$aic\n",
        "criteria[4, 2] <- sub1_fit4$bic\n",
        "criteria[5, 1] <- sub1_fit5$aic\n",
        "criteria[5, 2] <- sub1_fit5$bic\n",
        "criteria[6, 1] <- sub1_fit6$aic\n",
        "criteria[6, 2] <- sub1_fit6$bic\n",
        "\n",
        "criteria[1, 3] <- sub2_fit1$aic\n",
        "criteria[1, 4] <- sub2_fit1$bic\n",
        "criteria[2, 3] <- sub2_fit2$aic\n",
        "criteria[2, 4] <- sub2_fit2$bic\n",
        "criteria[3, 3] <- sub2_fit3$aic\n",
        "criteria[3, 4] <- sub2_fit3$bic\n",
        "criteria[4, 3] <- sub2_fit4$aic\n",
        "criteria[4, 4] <- sub2_fit4$bic\n",
        "criteria[5, 3] <- sub2_fit5$aic\n",
        "criteria[5, 4] <- sub2_fit5$bic\n",
        "criteria[6, 3] <- sub2_fit6$aic\n",
        "criteria[6, 4] <- sub2_fit6$bic\n",
        "\n",
        "criteria"
      ]
    },
    {
      "cell_type": "markdown",
      "metadata": {
        "id": "59taqvGDboZ3"
      },
      "source": [
        "Different models would be selected for period 1 and period 2."
      ]
    },
    {
      "cell_type": "code",
      "execution_count": null,
      "metadata": {
        "id": "l8tfVc-mboZ3"
      },
      "outputs": [],
      "source": [
        "auto.arima(spread1)\n",
        "auto.arima(spread2)\n",
        "auto.arima(spread2, max.d = 0)"
      ]
    },
    {
      "cell_type": "markdown",
      "metadata": {
        "id": "ZD9yY1B_boZ3"
      },
      "source": [
        "### Caveats of auto.arima function\n",
        "\n",
        "To illustrate the problem with automatic fitting with the auto.arima function, simulate a realization of AR(1) with coefficient 0.5 under the following seed."
      ]
    },
    {
      "cell_type": "code",
      "execution_count": null,
      "metadata": {
        "id": "hRyQfGVQboZ3"
      },
      "outputs": [],
      "source": [
        "set.seed(2083)\n",
        "ar <- arima.sim(n = 500, model = list(ar = c(0.5)))\n",
        "\n",
        "autofit <- auto.arima(ar)\n",
        "fit <- Arima(ar, order = c(1, 0, 0))\n",
        "\n",
        "autofit\n",
        "fit\n",
        "\n",
        "par(mfrow = c(1, 2))\n",
        "acf(autofit$residuals, main = 'ACF - ARMA(2, 3)')\n",
        "pacf(autofit$residuals, main = 'PACF - ARMA(2, 3)')\n",
        "\n",
        "acf(fit$residuals, main = 'ACF - AR(1)')\n",
        "pacf(autofit$residuals, main = 'PACF - AR(1)')"
      ]
    },
    {
      "cell_type": "code",
      "execution_count": null,
      "metadata": {
        "id": "_zR3tUz9boZ3"
      },
      "outputs": [],
      "source": [
        "models <- 2\n",
        "criteria <- matrix(ncol = 2, nrow = models)\n",
        "colnames(criteria) <- c('AIC', 'BIC')\n",
        "rownames(criteria) <- c( 'AR(1)', 'ARMA(2, 3)')\n",
        "\n",
        "criteria[1, 1] <- fit$aic\n",
        "criteria[1, 2] <- fit$bic\n",
        "criteria[2, 1] <- autofit$aic\n",
        "criteria[2, 2] <- autofit$bic\n",
        "\n",
        "criteria\n",
        "\n",
        "par(mfrow = c(2, 1))\n",
        "\n",
        "plot.ts(ar, ylab = NA, main = 'AR(1)')\n",
        "lines(fit$fitted, col = 'green')\n",
        "\n",
        "plot.ts(ar, ylab = NA, main = 'ARMA(2, 3)')\n",
        "lines(fit$fitted, col = 'red')"
      ]
    },
    {
      "cell_type": "markdown",
      "metadata": {
        "id": "89BzGmkVboZ3"
      },
      "source": [
        "On this example we can see, that although the sequence is a realization of AR(1), automatical R estimation fits ARMA(2, 3). However, looking at the criteria, residuals, and fit there is no particular reason to prefer ARMA(2, 3) over AR(1)."
      ]
    },
    {
      "cell_type": "markdown",
      "metadata": {
        "id": "9CvHfS4AboZ3"
      },
      "source": [
        "### Addition of two processes\n",
        "\n",
        "#### MA($q_1$) + MA($q_2$)\n",
        "\n",
        "Simulate realizations of MA(1) and MA(2) processes of length 500."
      ]
    },
    {
      "cell_type": "code",
      "execution_count": null,
      "metadata": {
        "id": "RoLajXpEboZ3"
      },
      "outputs": [],
      "source": [
        "set.seed(1450)\n",
        "ma1 <- arima.sim(n = 500, model = list(ma = 0.6))\n",
        "ma2 <- arima.sim(n = 500, model = list(ma = c(0.7, -0.5)))\n",
        "\n",
        "options(repr.plot.width = 10, repr.plot.height = 8)\n",
        "par(mfrow = c(1, 2))\n",
        "plot.ts(ma1, ylab = NA, main = 'MA(1)')\n",
        "plot.ts(ma2, ylab = NA, main = 'MA(2)')\n",
        "\n",
        "options(repr.plot.width = 10, repr.plot.height = 10)\n",
        "par(mfrow = c(2, 2))\n",
        "acf(ma1, main = 'MA(1)')\n",
        "pacf(ma1, main = 'MA(1)')\n",
        "\n",
        "acf(ma2, main = 'MA(2)')\n",
        "pacf(ma2, main = 'MA(2)')\n",
        "\n",
        "auto.arima(ma1)\n",
        "auto.arima(ma2)"
      ]
    },
    {
      "cell_type": "markdown",
      "metadata": {
        "id": "64TR6QlWboZ4"
      },
      "source": [
        "Now sum these two simulated processes. What will be the properties of the resulting process?"
      ]
    },
    {
      "cell_type": "code",
      "execution_count": null,
      "metadata": {
        "id": "n3oilAsyboZ4"
      },
      "outputs": [],
      "source": [
        "MA <- ma1 + ma2\n",
        "\n",
        "options(repr.plot.width = 8, repr.plot.height = 6)\n",
        "plot.ts(MA, ylab = NA, main = 'MA(1) + MA(2)')\n",
        "\n",
        "par(mfrow = c(1, 2))\n",
        "acf(MA)\n",
        "pacf(MA)\n",
        "\n",
        "MAfit <- auto.arima(MA)\n",
        "MAfit\n",
        "\n",
        "plot.ts(MA)\n",
        "lines(MAfit$fitted, col = 'red')\n",
        "\n",
        "par(mfrow = c(1,2))\n",
        "acf(MAfit$residuals, main = NA)\n",
        "pacf(MAfit$residuals, main = NA)"
      ]
    },
    {
      "cell_type": "markdown",
      "metadata": {
        "id": "63KsyI9XboZ4"
      },
      "source": [
        "If we sum $MA(q_1)$, and $MA(q_2)$ process, the resulting process will be $MA(max \\{ q_1, q_2 \\})$. In this particular case, we get a very decent fit by the MA(2) from the automatic fitting function.\n",
        "\n",
        "#### AR(p) + AR(q)\n",
        "\n",
        "Simulate realizations of two AR(1) processes with coefficients 0.5 and 0.4."
      ]
    },
    {
      "cell_type": "code",
      "execution_count": null,
      "metadata": {
        "id": "xuYLxuRtboZ4"
      },
      "outputs": [],
      "source": [
        "set.seed(5683)\n",
        "ar1 <- arima.sim(n = 500, model = list(ar = 0.5))\n",
        "ar2 <- arima.sim(n = 500, model = list (ar = 0.4))\n",
        "\n",
        "options(repr.plot.width = 10, repr.plot.height = 8)\n",
        "par(mfrow = c(1, 2))\n",
        "plot.ts(ar1, ylab = NA, main = 'First AR(1)')\n",
        "plot.ts(ar2, ylab = NA, main = 'Second AR(1)')\n",
        "\n",
        "options(repr.plot.width = 10, repr.plot.height = 10)\n",
        "par(mfrow = c(2, 2))\n",
        "acf(ar1, main = 'First AR(1)')\n",
        "pacf(ar1, main = 'First AR(1)')\n",
        "\n",
        "acf(ar2, main = 'Second AR(1)')\n",
        "pacf(ar2, main = 'Second AR(1)')\n",
        "\n",
        "auto.arima(ar1)\n",
        "auto.arima(ar2)"
      ]
    },
    {
      "cell_type": "markdown",
      "metadata": {
        "id": "UNoqqF_3boZ4"
      },
      "source": [
        "Now sum these two processes. What will be the result?"
      ]
    },
    {
      "cell_type": "code",
      "execution_count": null,
      "metadata": {
        "id": "1kJggbWhboZ4"
      },
      "outputs": [],
      "source": [
        "AR <- ar1 + ar2\n",
        "\n",
        "options(repr.plot.width = 8, repr.plot.height = 6)\n",
        "par(mfrow = c(1, 1))\n",
        "plot.ts(AR, ylab = NA, main = 'AR(1) + AR(1)')\n",
        "\n",
        "par(mfrow = c(1, 2))\n",
        "acf(AR)\n",
        "pacf(AR)\n",
        "\n",
        "ARfit <- auto.arima(AR)\n",
        "ARfit\n",
        "\n",
        "par(mfrow = c(1, 1))\n",
        "plot.ts(AR)\n",
        "lines(ARfit$fitted, col = 'red')\n",
        "\n",
        "par(mfrow = c(1, 2))\n",
        "acf(ARfit$residuals, main = NA)\n",
        "pacf(ARfit$residuals, main = NA)"
      ]
    },
    {
      "cell_type": "markdown",
      "metadata": {
        "id": "SNguPGr7boZ4"
      },
      "source": [
        "If $AR(p_1)$ nad $AR(p_2)$ processes are summed, the resulting process is $ARMA(p_1 + p_2, max \\{ p_1, p_2 \\})$.\n",
        "\n",
        "### Over-differencing\n",
        "\n",
        "Simulate a realization of AR(2) process with $\\phi_1 = 1.5$, $\\phi_2 = -0.5$."
      ]
    },
    {
      "cell_type": "code",
      "execution_count": null,
      "metadata": {
        "id": "upyx602BboZ4"
      },
      "outputs": [],
      "source": [
        "set.seed(555)\n",
        "y <- arima.sim(n = 500, model = list(ar = c(1.5, -0.5)))\n",
        "plot.ts(y, ylab = NA)"
      ]
    },
    {
      "cell_type": "markdown",
      "metadata": {
        "id": "gm6O-cQUboZ5"
      },
      "source": [
        "The pre-built function won't let us do the simulation, as the process wouldn't be stationary. We have to perform the simulation ourselves."
      ]
    },
    {
      "cell_type": "code",
      "execution_count": null,
      "metadata": {
        "id": "CfTBQHKBboZ5"
      },
      "outputs": [],
      "source": [
        "set.seed(355)\n",
        "l <- 502\n",
        "e <- rnorm(l)\n",
        "y <- vector()\n",
        "phi1 <- 1.5\n",
        "phi2 <- -0.5\n",
        "y[1] <- 0\n",
        "y[2] <- phi1 * e[1]\n",
        "for (i in 3 : l){\n",
        "    y[i] <- phi1 * y[i - 1] + phi2 * y[i - 2] + e[i]\n",
        "}\n",
        "\n",
        "plot.ts(y, ylab = NA)\n",
        "\n",
        "adf.test(y, k = 1)"
      ]
    },
    {
      "cell_type": "markdown",
      "metadata": {
        "id": "Sc9krTujboZ5"
      },
      "source": [
        "Non-stationarity is not rejected. Common procedure in such cases is to remove non-stationarity by differencing. Compute first and second difference."
      ]
    },
    {
      "cell_type": "code",
      "execution_count": null,
      "metadata": {
        "id": "S7e3mTcKboZ5"
      },
      "outputs": [],
      "source": [
        "first_diff <- diff(y)\n",
        "second_diff <- diff(y, differences = 2)\n",
        "\n",
        "plot.ts(first_diff)\n",
        "plot.ts(second_diff)\n",
        "\n",
        "adf.test(first_diff, k = 1)\n",
        "adf.test(second_diff, k = 1)"
      ]
    },
    {
      "cell_type": "markdown",
      "metadata": {
        "id": "0nJrn4n9boZ5"
      },
      "source": [
        "ADF test suggest stationarity of both first and second difference. Let's see how we would estimate each series."
      ]
    },
    {
      "cell_type": "code",
      "execution_count": null,
      "metadata": {
        "id": "K8Bms_wyboZ5"
      },
      "outputs": [],
      "source": [
        "fit_y <- auto.arima(y)\n",
        "fit_y\n",
        "\n",
        "fit_fd <- auto.arima(first_diff)\n",
        "fit_fd\n",
        "\n",
        "autofit_sd <- auto.arima(second_diff)\n",
        "autofit_sd"
      ]
    },
    {
      "cell_type": "markdown",
      "metadata": {
        "id": "piGgj8AtboZ5"
      },
      "source": [
        "Is this \"correct\"? Examine the individual processes.\n",
        "\n",
        "The **original process** is AR(2) with unit-root\n",
        "\n",
        "$$y_t = 1.5 y_{t-1} - 0.5 y_{t-2} + \\epsilon_t .$$\n",
        "\n",
        "After **first differencing**\n",
        "\n",
        "$$y_t - y_{t-1} = \\Delta y_t = 1.5 y_{t-1} - 0.5 y_{t-2} + \\epsilon_t - y_{t-1} = 0.5 y_{t-1} - 0.5 y_{t-2} + \\epsilon_t \\\\ = 0.5 \\Delta y_{t-1} + \\epsilon_t.$$\n",
        "\n",
        "Hence, first differenced series becomes an AR(1) process with $\\phi_1 = 0.5$."
      ]
    },
    {
      "cell_type": "markdown",
      "metadata": {
        "id": "w3DhFv28boZ5"
      },
      "source": [
        "Subtract $\\Delta y_{t-1}$ to obtain **second difference**.\n",
        "\n",
        "Hint: After subtracting $\\Delta y_{t-1}$, express $\\Delta y_{t-1}$ in terms of $\\Delta y_{t-2}$ and epsilon using the first differenced formula."
      ]
    },
    {
      "cell_type": "markdown",
      "metadata": {
        "id": "3F3we8OZboZ5"
      },
      "source": [
        "$$ \\Delta y_t - \\Delta y_{t-1} = \\Delta^2 y_t = 0.5 \\Delta y_{t-1} + \\epsilon_t - \\Delta y_{t-1} = 0.5 \\Delta y_{t-1} + \\epsilon_t - 0.5 \\Delta y_{t-2} - \\epsilon_{t-1} \\\\ = 0.5 \\Delta^2 y_{t-1} + \\epsilon_t - \\epsilon_{t-1}.$$\n",
        "\n",
        "Hence the over-differenced series is an ARMA(1, 1), and has an invertible error-term."
      ]
    },
    {
      "cell_type": "code",
      "execution_count": null,
      "metadata": {
        "id": "uVq8FgQ_boZ6"
      },
      "outputs": [],
      "source": [
        "fit_sd <- Arima(second_diff, order = c(1, 0 , 1), include.mean = FALSE)\n",
        "fit_sd\n",
        "\n",
        "options(repr.plot.width = 10, repr.plot.height = 10)\n",
        "par(mfrow = c(2, 1))\n",
        "plot.ts(second_diff, main = 'Autofit')\n",
        "lines(autofit_sd$fitted, col = 'red')\n",
        "plot.ts(second_diff, main = 'Manual fit')\n",
        "lines(fit_sd$fitted, col = 'green')"
      ]
    },
    {
      "cell_type": "markdown",
      "metadata": {
        "id": "TVCSplmDboZ6"
      },
      "source": [
        "### Common factor problem\n",
        "\n",
        "Consider a process\n",
        "$$y_t = 0.4 y_{t -1} + 0.45 y_{t - 2} + \\epsilon_t + \\epsilon_{t - 1} + 0.25 \\epsilon_{t - 2}.$$\n",
        "In the lag operator form, we have\n",
        "$$(1 - 0.4 L - 0.45 L^2)y_t = (1 + L + 0.25 L^2) \\epsilon_t.$$\n",
        "\n",
        "Let's simulate this ARMA(2, 2) process"
      ]
    },
    {
      "cell_type": "code",
      "execution_count": null,
      "metadata": {
        "id": "QOEHRXwgboZ6"
      },
      "outputs": [],
      "source": [
        "set.seed(389745847)\n",
        "phi1 <- .4\n",
        "phi2 <- .45\n",
        "theta1 <- 1\n",
        "theta2 <- .25\n",
        "T <- 1000\n",
        "O <- 2\n",
        "eps <- rnorm(T + O)\n",
        "arma22 <- vector()\n",
        "arma22[1] <- 0\n",
        "arma22[2] <- 0\n",
        "for (t in (O + 1): (T + O)){\n",
        "    arma22[t] <- phi1 * arma22[t - 1] + phi2 * arma22[t - 2] + eps[t] + theta1 * eps[t - 1] + theta2 * eps[t - 2]\n",
        "}"
      ]
    },
    {
      "cell_type": "code",
      "execution_count": null,
      "metadata": {
        "id": "KzMIi432boZ6"
      },
      "outputs": [],
      "source": [
        "plot.ts(arma22, main = 'ARMA(2, 2)', ylab = NA, xlab = NA)\n",
        "par(mfrow = c(1, 2))\n",
        "acf(arma22)\n",
        "pacf(arma22)"
      ]
    },
    {
      "cell_type": "markdown",
      "metadata": {
        "id": "slk31ozGboZ6"
      },
      "source": [
        "The associated polynomials have a common factor, we can write\n",
        "$$(1 - 0.4 L - 0.45 L^2)y_t = (1 + 0.5L)(1 - 0.9L)y_t,$$\n",
        "and\n",
        "$$(1 + L + 0.25 L^2) \\epsilon_t = (1 + 0.5L) (1 + 0.5L) \\epsilon_t.$$\n",
        "The common factor $(1 + 0.5L)$ can be cancelled, hence we have\n",
        "$$(1 - 0.9L)y_t = (1 + 0.5L) \\epsilon_t,$$\n",
        "which is an ARMA(1, 1). Let us simulate that too."
      ]
    },
    {
      "cell_type": "code",
      "execution_count": null,
      "metadata": {
        "id": "w4sFEZr1boZ6"
      },
      "outputs": [],
      "source": [
        "set.seed(389745847)\n",
        "phi1 <- .9\n",
        "theta1 <- .5\n",
        "T <- 1000\n",
        "O <- 2\n",
        "eps <- rnorm(T + O)\n",
        "arma11 <- vector()\n",
        "arma11[1] <- 0\n",
        "arma11[2] <- 0\n",
        "for (t in (O + 1): (T + O)){\n",
        "    arma11[t] <- phi1 * arma11[t - 1] + eps[t] + theta1 * eps[t - 1]\n",
        "}"
      ]
    },
    {
      "cell_type": "code",
      "execution_count": null,
      "metadata": {
        "id": "d-S_16hwboZ6"
      },
      "outputs": [],
      "source": [
        "par(mfrow = c(1,2))\n",
        "plot.ts(arma11, main = 'ARMA(1, 1)', ylab = NA, xlab = NA)\n",
        "plot.ts(arma22, main = 'ARMA(2, 2)', ylab = NA, xlab = NA)"
      ]
    },
    {
      "cell_type": "code",
      "execution_count": null,
      "metadata": {
        "id": "hWWccxTOboZ6"
      },
      "outputs": [],
      "source": [
        "options(repr.plot.width = 12, repr.plot.height = 12)\n",
        "par(mfrow = c(2, 2))\n",
        "acf(arma11, main = 'ARMA(1, 1) - ACF')\n",
        "acf(arma22, main = 'ARMA(2, 2) - ACF')\n",
        "pacf(arma11, main = 'ARMA(1, 1) - PACF')\n",
        "pacf(arma22, main = 'ARMA(2, 2) - PACF')"
      ]
    },
    {
      "cell_type": "code",
      "execution_count": null,
      "metadata": {
        "id": "Sg_Fz4rQboZ7"
      },
      "outputs": [],
      "source": [
        "plot(arma11 -  arma22)"
      ]
    },
    {
      "cell_type": "code",
      "execution_count": null,
      "metadata": {
        "id": "7CtlSdwxboZ7"
      },
      "outputs": [],
      "source": []
    }
  ],
  "metadata": {
    "kernelspec": {
      "display_name": "R",
      "language": "R",
      "name": "ir"
    },
    "language_info": {
      "codemirror_mode": "r",
      "file_extension": ".r",
      "mimetype": "text/x-r-source",
      "name": "R",
      "pygments_lexer": "r",
      "version": "3.6.0"
    },
    "colab": {
      "provenance": []
    }
  },
  "nbformat": 4,
  "nbformat_minor": 0
}